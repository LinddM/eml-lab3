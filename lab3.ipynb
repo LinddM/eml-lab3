{
 "metadata": {
  "language_info": {
   "codemirror_mode": {
    "name": "ipython",
    "version": 3
   },
   "file_extension": ".py",
   "mimetype": "text/x-python",
   "name": "python",
   "nbconvert_exporter": "python",
   "pygments_lexer": "ipython3",
   "version": "3.8.6-candidate"
  },
  "orig_nbformat": 2,
  "kernelspec": {
   "name": "python3",
   "display_name": "Python 3.8.6 64-bit",
   "metadata": {
    "interpreter": {
     "hash": "c61731d8f7c4f1da77cbad515f8c2ebe6cb7e230b50f067f2e33022859eb5993"
    }
   }
  }
 },
 "nbformat": 4,
 "nbformat_minor": 2,
 "cells": [
  {
   "source": [
    "# Laboratorio 3: Regresión lineal"
   ],
   "cell_type": "markdown",
   "metadata": {}
  },
  {
   "source": [
    "### Problema 1\n",
    "\n",
    "Anualmente en Estados Unidos, cerca de 1.5 millones de estudiantes de Educación Superior realizan un examen de aptitud escolar (SAT, por sus siglas en inglés).\n",
    "\n",
    "Aproximadamente el 80% de las universidades e instituciones de Educación Superior usan las calificaciones obtenidas por los estudiantes en este examen como criterio de admisión (College Board, marzo de 2006).\n",
    "\n",
    "Un servicio de evaluaciones educativas ha recolectado la información del examen del SAT y la información del GPA de una muestra de 1000 estudiantes de una universidad (no se indica el nombre por temas de confidencialidad). El SAT consiste en múltiples secciones medibles, las cuales incluye: Matemática, lectura y escritura. Se prueba lectura y escritura juntas y Matemática se evalúa en una escala del 200 al 800. Una calificación perfecta es 1600 (800 en ambas secciones). En el caso de GPA es un término que se emplea para asignar un valor numérico a las puntuaciones acumuladas por un estudiante en el sistema estadounidense. Este valor puede ser anual o agruparse en períodos académicos y se calcula en una escala de 0 a 4 puntos (en algunos casos puede ser hasta 5).\n",
    "\n",
    "Se tiene el siguiente juego de datos del archivo satgpa.csv, el cual tiene la siguiente información:\n",
    "\n",
    "### Variables\n",
    "\n",
    "* sex - sexo del estudiante (1=Mujer y 2=Hombre)\n",
    "* sat_v - percentil SAT verbal\n",
    "* sat_m - percentil SAT en Matemática\n",
    "* sat_sum - total del percentil del SAT verbal y Matemática\n",
    "* hs_gpa - promedio de calificaciones de la escuela secundaria\n",
    "* fy_gpa - promedio de calificaciones del primer año de la universidad\n",
    "\n",
    "Se tiene interés en determinar si el “sexo”, el “total del percentil de SAT verbal y Matemática” y el “promedio de calificaciones de la escuela secundaria” predicen en forma lineal el “promedio de calificaciones de primer año de la universidad”. Utilice el método del descenso del gradiente para encontrar los parámetros correspondientes (thetas). Estas características podrían utilizarse en un futuro para calificar a las personas para su ingreso a esta universidad."
   ],
   "cell_type": "markdown",
   "metadata": {}
  },
  {
   "source": [
    "### Solución"
   ],
   "cell_type": "markdown",
   "metadata": {}
  },
  {
   "cell_type": "code",
   "execution_count": 1,
   "metadata": {},
   "outputs": [],
   "source": [
    "# importar librerías\n",
    "import numpy as np\n",
    "import pandas as pd"
   ]
  },
  {
   "cell_type": "code",
   "execution_count": 2,
   "metadata": {},
   "outputs": [],
   "source": [
    "# cargar datos\n",
    "df = pd.read_csv('satgpa.csv')"
   ]
  },
  {
   "cell_type": "code",
   "execution_count": 3,
   "metadata": {},
   "outputs": [],
   "source": [
    "# ecuaciones\n",
    "def linear_cost(X, y, theta):\n",
    "    h = X @ theta\n",
    "    return ((h - y) ** 2).sum() / (2*len(X))\n",
    "\n",
    "def linear_cost_gradient(X, y, theta):\n",
    "    h = X @ theta\n",
    "    return ((h - y).T @ X).T / (2*len(X))\n",
    "\n",
    "def gradient_descent(\n",
    "    X, y, theta_0, \n",
    "    cost_function, cost_function_gradient,\n",
    "    learning_rate=0.01, \n",
    "    threshold=0.001,\n",
    "    max_iter=1000\n",
    "):\n",
    "    theta = theta_0\n",
    "    iteration = 0\n",
    "    costs = []\n",
    "    while np.linalg.norm(cost_function_gradient(X, y, theta)) > threshold and iteration < max_iter:\n",
    "        iteration += 1\n",
    "        theta -= learning_rate * cost_function_gradient(X, y, theta)\n",
    "        costs.append(cost_function(X, y, theta))\n",
    "\n",
    "    return theta, costs"
   ]
  },
  {
   "cell_type": "code",
   "execution_count": 4,
   "metadata": {},
   "outputs": [],
   "source": [
    "# matrices\n",
    "x = df.copy()\n",
    "y = np.array(df['fy_gpa']).reshape(len(x), 1)\n",
    "x.drop(columns=['sat_v', 'sat_m', 'fy_gpa'], inplace=True)\n",
    "\n",
    "X = np.hstack((\n",
    "    np.ones(1000).reshape(1000, 1), # para el intercepto\n",
    "    x\n",
    "))\n",
    "\n",
    "m, n = X.shape\n",
    "theta_0 = np.random.rand(n, 1)"
   ]
  },
  {
   "cell_type": "code",
   "execution_count": 5,
   "metadata": {},
   "outputs": [],
   "source": [
    "# realizar operación\n",
    "r_theta, costs = gradient_descent(\n",
    "    X, y, theta_0,\n",
    "    linear_cost,\n",
    "    linear_cost_gradient,\n",
    "    learning_rate=0.0001,\n",
    "    threshold=1.5\n",
    ")"
   ]
  },
  {
   "cell_type": "code",
   "execution_count": 6,
   "metadata": {},
   "outputs": [
    {
     "output_type": "execute_result",
     "data": {
      "text/plain": [
       "array([[ 0.88129777],\n",
       "       [ 0.59824737],\n",
       "       [-0.02250221],\n",
       "       [ 0.97148122]])"
      ]
     },
     "metadata": {},
     "execution_count": 6
    }
   ],
   "source": [
    "# observar resultados\n",
    "r_theta"
   ]
  }
 ]
}